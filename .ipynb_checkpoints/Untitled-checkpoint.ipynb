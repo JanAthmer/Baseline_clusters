{
 "cells": [
  {
   "cell_type": "code",
   "execution_count": 1,
   "id": "1b0d2dc6",
   "metadata": {
    "scrolled": true
   },
   "outputs": [
    {
     "name": "stdout",
     "output_type": "stream",
     "text": [
      "Defaulting to user installation because normal site-packages is not writeable\n",
      "\u001b[33mWARNING: Ignoring invalid distribution -orch (/gpfs/home3/scur0635/.local/lib/python3.9/site-packages)\u001b[0m\n",
      "\u001b[33mWARNING: Ignoring invalid distribution -orch (/gpfs/home3/scur0635/.local/lib/python3.9/site-packages)\u001b[0m\n",
      "Requirement already satisfied: inseq in /gpfs/home3/scur0635/.local/lib/python3.9/site-packages (0.5.0)\n",
      "Requirement already satisfied: nvidia-cublas-cu11>=11.10.3.66 in /gpfs/home3/scur0635/.local/lib/python3.9/site-packages (from inseq) (11.10.3.66)\n",
      "Requirement already satisfied: nvidia-cusolver-cu11>=11.4.0.1 in /gpfs/home3/scur0635/.local/lib/python3.9/site-packages (from inseq) (11.4.0.1)\n",
      "Requirement already satisfied: poethepoet>=0.13.1 in /gpfs/home3/scur0635/.local/lib/python3.9/site-packages (from inseq) (0.13.1)\n",
      "Requirement already satisfied: matplotlib>=3.5.3 in /gpfs/home3/scur0635/.local/lib/python3.9/site-packages (from inseq) (3.5.3)\n",
      "Requirement already satisfied: nvidia-cusparse-cu11>=11.7.4.91 in /gpfs/home3/scur0635/.local/lib/python3.9/site-packages (from inseq) (11.7.4.91)\n",
      "Requirement already satisfied: numpy>=1.21.6 in /gpfs/home3/scur0635/.local/lib/python3.9/site-packages (from inseq) (1.26.2)\n",
      "Requirement already satisfied: captum>=0.6.0 in /gpfs/home3/scur0635/.local/lib/python3.9/site-packages (from inseq) (0.6.0)\n",
      "Requirement already satisfied: nvidia-cuda-nvrtc-cu11>=11.7.99 in /gpfs/home3/scur0635/.local/lib/python3.9/site-packages (from inseq) (11.7.99)\n",
      "Requirement already satisfied: nvidia-cufft-cu11>=10.9.0.58 in /gpfs/home3/scur0635/.local/lib/python3.9/site-packages (from inseq) (10.9.0.58)\n",
      "Requirement already satisfied: protobuf>=3.20.1 in /gpfs/home3/scur0635/.local/lib/python3.9/site-packages (from inseq) (3.20.3)\n",
      "Requirement already satisfied: rich>=10.13.0 in /gpfs/home3/scur0635/.local/lib/python3.9/site-packages (from inseq) (10.16.2)\n",
      "Requirement already satisfied: tqdm>=4.64.0 in /gpfs/home3/scur0635/.local/lib/python3.9/site-packages (from inseq) (4.66.1)\n",
      "Requirement already satisfied: transformers[sentencepiece,tokenizers,torch]>=4.22.0 in /gpfs/home3/scur0635/.local/lib/python3.9/site-packages (from inseq) (4.34.1)\n",
      "Requirement already satisfied: nvidia-nvtx-cu11>=11.7.91 in /gpfs/home3/scur0635/.local/lib/python3.9/site-packages (from inseq) (11.7.91)\n",
      "Requirement already satisfied: nvidia-nccl-cu11>=2.14.3 in /gpfs/home3/scur0635/.local/lib/python3.9/site-packages (from inseq) (2.14.3)\n",
      "Requirement already satisfied: scipy>=1.8.1 in /gpfs/home3/scur0635/.local/lib/python3.9/site-packages (from inseq) (1.11.4)\n",
      "Requirement already satisfied: typeguard<=2.13.3 in /gpfs/home3/scur0635/.local/lib/python3.9/site-packages (from inseq) (2.13.3)\n",
      "Requirement already satisfied: nvidia-cudnn-cu11>=8.5.0.96 in /gpfs/home3/scur0635/.local/lib/python3.9/site-packages (from inseq) (8.5.0.96)\n",
      "Collecting torch==2.0.0\n",
      "  Using cached torch-2.0.0-cp39-cp39-manylinux1_x86_64.whl (619.9 MB)\n",
      "Requirement already satisfied: jaxtyping<0.3.0,>=0.2.23 in /gpfs/home3/scur0635/.local/lib/python3.9/site-packages (from inseq) (0.2.25)\n",
      "Requirement already satisfied: nvidia-curand-cu11>=10.2.10.91 in /gpfs/home3/scur0635/.local/lib/python3.9/site-packages (from inseq) (10.2.10.91)\n",
      "Requirement already satisfied: nvidia-cuda-runtime-cu11>=11.7.99 in /gpfs/home3/scur0635/.local/lib/python3.9/site-packages (from inseq) (11.7.99)\n",
      "Requirement already satisfied: nvidia-cuda-cupti-cu11>=11.7.101 in /gpfs/home3/scur0635/.local/lib/python3.9/site-packages (from inseq) (11.7.101)\n",
      "Requirement already satisfied: sympy in /gpfs/home3/scur0635/.local/lib/python3.9/site-packages (from torch==2.0.0->inseq) (1.12)\n",
      "Requirement already satisfied: networkx in /gpfs/home3/scur0635/.local/lib/python3.9/site-packages (from torch==2.0.0->inseq) (3.2.1)\n",
      "Requirement already satisfied: jinja2 in /gpfs/admin/_hpc/sw/arch/INTEL-AVX512/Centos8/EB_production/2021/software/Python/3.9.5-GCCcore-10.3.0/lib/python3.9/site-packages (from torch==2.0.0->inseq) (2.11.3)\n",
      "Requirement already satisfied: typing-extensions in /gpfs/home3/scur0635/.local/lib/python3.9/site-packages (from torch==2.0.0->inseq) (4.8.0)\n",
      "Requirement already satisfied: triton==2.0.0 in /gpfs/home3/scur0635/.local/lib/python3.9/site-packages (from torch==2.0.0->inseq) (2.0.0)\n",
      "Requirement already satisfied: filelock in /gpfs/admin/_hpc/sw/arch/INTEL-AVX512/Centos8/EB_production/2021/software/Python/3.9.5-GCCcore-10.3.0/lib/python3.9/site-packages (from torch==2.0.0->inseq) (3.0.12)\n",
      "Requirement already satisfied: setuptools in /gpfs/admin/_hpc/sw/arch/INTEL-AVX512/Centos8/EB_production/2021/software/Python/3.9.5-GCCcore-10.3.0/lib/python3.9/site-packages (from nvidia-cublas-cu11>=11.10.3.66->inseq) (56.2.0)\n",
      "Requirement already satisfied: wheel in /gpfs/admin/_hpc/sw/arch/INTEL-AVX512/Centos8/EB_production/2021/software/Python/3.9.5-GCCcore-10.3.0/lib/python3.9/site-packages (from nvidia-cublas-cu11>=11.10.3.66->inseq) (0.36.2)\n",
      "Requirement already satisfied: cmake in /gpfs/home3/scur0635/.local/lib/python3.9/site-packages (from triton==2.0.0->torch==2.0.0->inseq) (3.27.7)\n",
      "Requirement already satisfied: lit in /gpfs/home3/scur0635/.local/lib/python3.9/site-packages (from triton==2.0.0->torch==2.0.0->inseq) (17.0.6)\n",
      "Requirement already satisfied: kiwisolver>=1.0.1 in /gpfs/home3/scur0635/.local/lib/python3.9/site-packages (from matplotlib>=3.5.3->inseq) (1.4.5)\n",
      "Requirement already satisfied: pyparsing>=2.2.1 in /gpfs/admin/_hpc/sw/arch/INTEL-AVX512/Centos8/EB_production/2021/software/Python/3.9.5-GCCcore-10.3.0/lib/python3.9/site-packages (from matplotlib>=3.5.3->inseq) (2.4.7)\n",
      "Requirement already satisfied: python-dateutil>=2.7 in /gpfs/home3/scur0635/.local/lib/python3.9/site-packages (from matplotlib>=3.5.3->inseq) (2.8.2)\n",
      "Requirement already satisfied: pillow>=6.2.0 in /gpfs/home3/scur0635/.local/lib/python3.9/site-packages (from matplotlib>=3.5.3->inseq) (10.1.0)\n",
      "Requirement already satisfied: packaging>=20.0 in /gpfs/admin/_hpc/sw/arch/INTEL-AVX512/Centos8/EB_production/2021/software/Python/3.9.5-GCCcore-10.3.0/lib/python3.9/site-packages (from matplotlib>=3.5.3->inseq) (20.9)\n",
      "Requirement already satisfied: fonttools>=4.22.0 in /gpfs/home3/scur0635/.local/lib/python3.9/site-packages (from matplotlib>=3.5.3->inseq) (4.45.1)\n",
      "Requirement already satisfied: cycler>=0.10 in /gpfs/home3/scur0635/.local/lib/python3.9/site-packages (from matplotlib>=3.5.3->inseq) (0.12.1)\n",
      "Requirement already satisfied: tomli>=1.2.2 in /gpfs/home3/scur0635/.local/lib/python3.9/site-packages (from poethepoet>=0.13.1->inseq) (2.0.1)\n",
      "Requirement already satisfied: pastel<0.3.0,>=0.2.1 in /gpfs/admin/_hpc/sw/arch/INTEL-AVX512/Centos8/EB_production/2021/software/Python/3.9.5-GCCcore-10.3.0/lib/python3.9/site-packages (from poethepoet>=0.13.1->inseq) (0.2.1)\n",
      "Requirement already satisfied: six>=1.5 in /gpfs/admin/_hpc/sw/arch/INTEL-AVX512/Centos8/EB_production/2021/software/Python/3.9.5-GCCcore-10.3.0/lib/python3.9/site-packages (from python-dateutil>=2.7->matplotlib>=3.5.3->inseq) (1.16.0)\n",
      "Requirement already satisfied: pygments<3.0.0,>=2.6.0 in /gpfs/admin/_hpc/sw/arch/INTEL-AVX512/Centos8/EB_production/2021/software/Python/3.9.5-GCCcore-10.3.0/lib/python3.9/site-packages (from rich>=10.13.0->inseq) (2.9.0)\n",
      "Requirement already satisfied: commonmark<0.10.0,>=0.9.0 in /gpfs/home3/scur0635/.local/lib/python3.9/site-packages (from rich>=10.13.0->inseq) (0.9.1)\n",
      "Requirement already satisfied: colorama<0.5.0,>=0.4.0 in /gpfs/admin/_hpc/sw/arch/INTEL-AVX512/Centos8/EB_production/2021/software/Python/3.9.5-GCCcore-10.3.0/lib/python3.9/site-packages (from rich>=10.13.0->inseq) (0.4.4)\n",
      "Requirement already satisfied: huggingface-hub<1.0,>=0.16.4 in /gpfs/home3/scur0635/.local/lib/python3.9/site-packages (from transformers[sentencepiece,tokenizers,torch]>=4.22.0->inseq) (0.17.3)\n",
      "Requirement already satisfied: pyyaml>=5.1 in /gpfs/home3/scur0635/.local/lib/python3.9/site-packages (from transformers[sentencepiece,tokenizers,torch]>=4.22.0->inseq) (6.0.1)\n",
      "Requirement already satisfied: tokenizers<0.15,>=0.14 in /gpfs/home3/scur0635/.local/lib/python3.9/site-packages (from transformers[sentencepiece,tokenizers,torch]>=4.22.0->inseq) (0.14.1)\n",
      "Requirement already satisfied: safetensors>=0.3.1 in /gpfs/home3/scur0635/.local/lib/python3.9/site-packages (from transformers[sentencepiece,tokenizers,torch]>=4.22.0->inseq) (0.4.1)\n",
      "Requirement already satisfied: regex!=2019.12.17 in /gpfs/home3/scur0635/.local/lib/python3.9/site-packages (from transformers[sentencepiece,tokenizers,torch]>=4.22.0->inseq) (2023.10.3)\n",
      "Requirement already satisfied: requests in /gpfs/admin/_hpc/sw/arch/INTEL-AVX512/Centos8/EB_production/2021/software/Python/3.9.5-GCCcore-10.3.0/lib/python3.9/site-packages (from transformers[sentencepiece,tokenizers,torch]>=4.22.0->inseq) (2.25.1)\n",
      "Requirement already satisfied: accelerate>=0.20.3 in /gpfs/home3/scur0635/.local/lib/python3.9/site-packages (from transformers[sentencepiece,tokenizers,torch]>=4.22.0->inseq) (0.24.1)\n",
      "Requirement already satisfied: sentencepiece!=0.1.92,>=0.1.91 in /gpfs/home3/scur0635/.local/lib/python3.9/site-packages (from transformers[sentencepiece,tokenizers,torch]>=4.22.0->inseq) (0.1.99)\n"
     ]
    },
    {
     "name": "stdout",
     "output_type": "stream",
     "text": [
      "Requirement already satisfied: psutil in /gpfs/admin/_hpc/sw/arch/INTEL-AVX512/Centos8/EB_production/2021/software/Python/3.9.5-GCCcore-10.3.0/lib/python3.9/site-packages (from accelerate>=0.20.3->transformers[sentencepiece,tokenizers,torch]>=4.22.0->inseq) (5.8.0)\n",
      "Requirement already satisfied: fsspec in /gpfs/home3/scur0635/.local/lib/python3.9/site-packages (from huggingface-hub<1.0,>=0.16.4->transformers[sentencepiece,tokenizers,torch]>=4.22.0->inseq) (2023.10.0)\n",
      "Requirement already satisfied: MarkupSafe>=0.23 in /gpfs/admin/_hpc/sw/arch/INTEL-AVX512/Centos8/EB_production/2021/software/Python/3.9.5-GCCcore-10.3.0/lib/python3.9/site-packages (from jinja2->torch==2.0.0->inseq) (1.1.1)\n",
      "Requirement already satisfied: chardet<5,>=3.0.2 in /gpfs/admin/_hpc/sw/arch/INTEL-AVX512/Centos8/EB_production/2021/software/Python/3.9.5-GCCcore-10.3.0/lib/python3.9/site-packages (from requests->transformers[sentencepiece,tokenizers,torch]>=4.22.0->inseq) (4.0.0)\n",
      "Requirement already satisfied: idna<3,>=2.5 in /gpfs/admin/_hpc/sw/arch/INTEL-AVX512/Centos8/EB_production/2021/software/Python/3.9.5-GCCcore-10.3.0/lib/python3.9/site-packages (from requests->transformers[sentencepiece,tokenizers,torch]>=4.22.0->inseq) (2.10)\n",
      "Requirement already satisfied: certifi>=2017.4.17 in /gpfs/admin/_hpc/sw/arch/INTEL-AVX512/Centos8/EB_production/2021/software/Python/3.9.5-GCCcore-10.3.0/lib/python3.9/site-packages (from requests->transformers[sentencepiece,tokenizers,torch]>=4.22.0->inseq) (2020.12.5)\n",
      "Requirement already satisfied: urllib3<1.27,>=1.21.1 in /gpfs/admin/_hpc/sw/arch/INTEL-AVX512/Centos8/EB_production/2021/software/Python/3.9.5-GCCcore-10.3.0/lib/python3.9/site-packages (from requests->transformers[sentencepiece,tokenizers,torch]>=4.22.0->inseq) (1.26.4)\n",
      "Requirement already satisfied: mpmath>=0.19 in /gpfs/home3/scur0635/.local/lib/python3.9/site-packages (from sympy->torch==2.0.0->inseq) (1.3.0)\n",
      "\u001b[33mWARNING: Ignoring invalid distribution -orch (/gpfs/home3/scur0635/.local/lib/python3.9/site-packages)\u001b[0m\n",
      "Installing collected packages: torch\n",
      "  Attempting uninstall: torch\n",
      "\u001b[33m    WARNING: Ignoring invalid distribution -orch (/gpfs/home3/scur0635/.local/lib/python3.9/site-packages)\u001b[0m\n",
      "    Found existing installation: torch 2.0.1\n",
      "    Uninstalling torch-2.0.1:\n",
      "      Successfully uninstalled torch-2.0.1\n",
      "\u001b[33mWARNING: Ignoring invalid distribution -orch (/gpfs/home3/scur0635/.local/lib/python3.9/site-packages)\u001b[0m\n",
      "\u001b[31mERROR: pip's dependency resolver does not currently take into account all the packages that are installed. This behaviour is the source of the following dependency conflicts.\n",
      "torchvision 0.15.2 requires torch==2.0.1, but you have torch 2.0.0 which is incompatible.\n",
      "torchaudio 2.0.2 requires torch==2.0.1, but you have torch 2.0.0 which is incompatible.\u001b[0m\n",
      "Successfully installed torch-2.0.0\n",
      "\u001b[33mWARNING: Ignoring invalid distribution -orch (/gpfs/home3/scur0635/.local/lib/python3.9/site-packages)\u001b[0m\n",
      "\u001b[33mWARNING: Ignoring invalid distribution -orch (/gpfs/home3/scur0635/.local/lib/python3.9/site-packages)\u001b[0m\n",
      "\u001b[33mWARNING: Ignoring invalid distribution -orch (/gpfs/home3/scur0635/.local/lib/python3.9/site-packages)\u001b[0m\n",
      "\u001b[33mWARNING: You are using pip version 21.1.1; however, version 23.3.2 is available.\n",
      "You should consider upgrading via the '/sw/arch/Centos8/EB_production/2021/software/Python/3.9.5-GCCcore-10.3.0/bin/python3.9 -m pip install --upgrade pip' command.\u001b[0m\n",
      "Note: you may need to restart the kernel to use updated packages.\n"
     ]
    }
   ],
   "source": [
    "pip install inseq"
   ]
  },
  {
   "cell_type": "code",
   "execution_count": 74,
   "id": "f6d56094",
   "metadata": {
    "scrolled": false
   },
   "outputs": [
    {
     "name": "stderr",
     "output_type": "stream",
     "text": [
      "No target alignments were provided for the contrastive target. Use e.g. 'contrast_targets_alignments=[(0,1), ...] to provide them in model.attribute\n",
      "Filling missing position with right-aligned 1:1 position alignments.\n",
      "Generated alignments: [(5, 7), (6, 8)]\n",
      "Attributing with input_x_gradient...: 100%|██████████| 7/7 [00:00<00:00, 23.12it/s]\n"
     ]
    },
    {
     "data": {
      "text/html": [
       "<br/><b>0th instance:</b><br/>\n",
       "<html>\n",
       "<div id=\"qflwjvsajetbfwzsxijx_viz_container\">\n",
       "    <div id=\"qflwjvsajetbfwzsxijx_content\" style=\"padding:15px;border-style:solid;margin:5px;\">\n",
       "        <div id = \"qflwjvsajetbfwzsxijx_saliency_plot_container\" class=\"qflwjvsajetbfwzsxijx_viz_container\" style=\"display:block\">\n",
       "            \n",
       "<div id=\"hljeihdeovxnbuxrncnp_saliency_plot\" class=\"hljeihdeovxnbuxrncnp_viz_content\">\n",
       "    <div style=\"margin:5px;font-family:sans-serif;font-weight:bold;\">\n",
       "        <span style=\"font-size: 20px;\">Target Saliency Heatmap</span>\n",
       "        <br>\n",
       "        x: Generated tokens, y: Attributed tokens\n",
       "    </div>\n",
       "    \n",
       "<table border=\"1\" cellpadding=\"5\" cellspacing=\"5\"\n",
       "    style=\"overflow-x:scroll;display:block;\">\n",
       "    <tr><th></th>\n",
       "<th>Ġsomewhere → Ġanywhere</th><th>.</th></tr><tr><th>She</th><th style=\"background:rgba(255.0, 13.0, 87.0, 0.3851455733808676)\">0.161</th><th style=\"background:rgba(230.2941176470614, 26.505882352939775, 102.59215686274348, 0.0)\">0.0</th></tr><tr><th>Ġdid</th><th style=\"background:rgba(255.0, 13.0, 87.0, 0.3299663299663301)\">0.139</th><th style=\"background:rgba(230.2941176470614, 26.505882352939775, 102.59215686274348, 0.0)\">0.0</th></tr><tr><th>Ġnot</th><th style=\"background:rgba(255.0, 13.0, 87.0, 0.5112695583283818)\">0.213</th><th style=\"background:rgba(230.2941176470614, 26.505882352939775, 102.59215686274348, 0.0)\">0.0</th></tr><tr><th>Ġsee</th><th style=\"background:rgba(255.0, 13.0, 87.0, 0.16442859972271742)\">0.07</th><th style=\"background:rgba(230.2941176470614, 26.505882352939775, 102.59215686274348, 0.0)\">0.0</th></tr><tr><th>Ġghosts</th><th style=\"background:rgba(255.0, 13.0, 87.0, 1.0)\">0.416</th><th style=\"background:rgba(230.2941176470614, 26.505882352939775, 102.59215686274348, 0.0)\">0.0</th></tr><tr><th>Ġsomewhere → Ġanywhere</th><th style=\"background:rgba(0.0, 0.0, 0.0, 0.0)\"></th><th style=\"background:rgba(230.2941176470614, 26.505882352939775, 102.59215686274348, 0.0)\">0.0</th></tr><tr><th>.</th><th style=\"background:rgba(0.0, 0.0, 0.0, 0.0)\"></th><th style=\"background:rgba(0.0, 0.0, 0.0, 0.0)\"></th></tr><tr style=\"outline: thin solid\"><th><b>contrast_prob_diff</b></th><th>0.001</th><th>-0.069</th></table>\n",
       "</div>\n",
       "\n",
       "        </div>\n",
       "    </div>\n",
       "</div>\n",
       "</html>\n"
      ],
      "text/plain": [
       "<IPython.core.display.HTML object>"
      ]
     },
     "metadata": {},
     "output_type": "display_data"
    }
   ],
   "source": [
    "import inseq\n",
    "attribution_model = inseq.load_model(\"gpt2\", \"input_x_gradient\")\n",
    "\n",
    "# Perform the contrastive attribution:\n",
    "# Regular (forced) target -> \"The manager went home because he was sick\"\n",
    "# Contrastive target      -> \"The manager went home because she was sick\"\n",
    "out = attribution_model.attribute(\n",
    "    \"She did not see ghosts\",\n",
    "    \"She did not see ghosts anywhere.\",\n",
    "    attributed_fn=\"contrast_prob_diff\",\n",
    "    contrast_targets=\"She didn’t see ghosts somewhere.\",\n",
    "    # We also visualize the corresponding step score\n",
    "    step_scores=[\"contrast_prob_diff\"]\n",
    ")\n",
    "out.show()"
   ]
  },
  {
   "cell_type": "code",
   "execution_count": 57,
   "id": "6e70a59b",
   "metadata": {},
   "outputs": [],
   "source": [
    "vocab_tagged = []\n",
    "with open(\"postags.txt\", 'r') as file:\n",
    "    for line in file:\n",
    "        # Split the line into a list of words\n",
    "        words = line.split()\n",
    "        # Remove the brackets from the first and last elements in the list\n",
    "        words[1] = words[1].lstrip('(')\n",
    "        words[-1] = words[-1].rstrip(')')\n",
    "\n",
    "        # Append the modified list to data_list\n",
    "        vocab_tagged.append([[words[2], words[1]], words[0]])"
   ]
  },
  {
   "cell_type": "code",
   "execution_count": 39,
   "id": "ef47bb85",
   "metadata": {},
   "outputs": [],
   "source": [
    "import pandas as pd\n",
    "dfs = [pd.DataFrame(x[\"target_attributions\"]) for x in out.get_scores_dicts()]"
   ]
  },
  {
   "cell_type": "code",
   "execution_count": 56,
   "id": "4a4983ce",
   "metadata": {},
   "outputs": [
    {
     "name": "stdout",
     "output_type": "stream",
     "text": [
      "[0.20371617376804352, 0.1343999207019806, 0.10045229643583298, 0.2034894973039627, 0.07015760242938995, 0.08426672965288162, 0.06023784354329109, 0.14327996969223022]\n"
     ]
    }
   ],
   "source": [
    "df = dfs[0]\n",
    "column_index = 2  # Change this to the index of your desired column\n",
    "extracted_list = df.iloc[:,0].dropna().tolist()\n",
    "print(extracted_list)"
   ]
  }
 ],
 "metadata": {
  "kernelspec": {
   "display_name": "Python 3 (ipykernel)",
   "language": "python",
   "name": "python3"
  },
  "language_info": {
   "codemirror_mode": {
    "name": "ipython",
    "version": 3
   },
   "file_extension": ".py",
   "mimetype": "text/x-python",
   "name": "python",
   "nbconvert_exporter": "python",
   "pygments_lexer": "ipython3",
   "version": "3.9.5"
  }
 },
 "nbformat": 4,
 "nbformat_minor": 5
}
